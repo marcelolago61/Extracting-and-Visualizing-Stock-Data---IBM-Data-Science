{
 "cells": [
  {
   "cell_type": "markdown",
   "id": "c65755cd-d60e-496d-bfef-eec979e773f3",
   "metadata": {},
   "source": [
    "<center>\n",
    "    <img src=\"https://cf-courses-data.s3.us.cloud-object-storage.appdomain.cloud/IBMDeveloperSkillsNetwork-PY0220EN-SkillsNetwork/labs/project/Images/SN_logo.png\" width=\"300\" alt=\"cognitiveclass.ai logo\">\n",
    "</center>\n"
   ]
  },
  {
   "cell_type": "markdown",
   "id": "debd4134-153f-4146-af0e-7271271a8233",
   "metadata": {},
   "source": [
    "<h1>Extracting Stock Data Using a Python Library</h1>\n"
   ]
  },
  {
   "cell_type": "markdown",
   "id": "1eb94cbf-c353-42a5-809f-f70b8ee768f7",
   "metadata": {},
   "source": [
    "A company's stock share is a piece of the company more precisely:\n",
    "<p><b>A stock (also known as equity) is a security that represents the ownership of a fraction of a corporation. This\n",
    "entitles the owner of the stock to a proportion of the corporation's assets and profits equal to how much stock they own. Units of stock are called \"shares.\" [1]</p></b>\n",
    "\n",
    "An investor can buy a stock and sell it later. If the stock price increases, the investor profits, If it decreases,the investor with incur a loss.  Determining the stock price is complex; it depends on the number of outstanding shares, the size of the company's future profits, and much more. People trade stocks throughout the day the stock ticker is a report of the price of a certain stock, updated continuously throughout the trading session by the various stock market exchanges. \n",
    "<p>You are a data scientist working for a hedge fund; it's your job to determine any suspicious stock activity. In this lab you will extract stock data using a Python library. We will use the <coode>yfinance</code> library, it allows us to extract data for stocks returning data in a pandas dataframe. You will use the lab to extract.</p>\n"
   ]
  },
  {
   "cell_type": "markdown",
   "id": "55d550a5-2f55-45f9-b77e-34f38e6ddf34",
   "metadata": {},
   "source": [
    "<h2>Table of Contents</h2>\n",
    "<div class=\"alert alert-block alert-info\" style=\"margin-top: 20px\">\n",
    "    <ul>\n",
    "        <li>Using yfinance to Extract Stock Info</li>\n",
    "        <li>Using yfinance to Extract Historical Share Price Data</li>\n",
    "        <li>Using yfinance to Extract Historical Dividends Data</li>\n",
    "        <li>Exercise</li>\n",
    "    </ul>\n",
    "<p>\n",
    "    Estimated Time Needed: <strong>30 min</strong></p>\n",
    "</div>\n",
    "\n",
    "<hr>\n"
   ]
  },
  {
   "cell_type": "code",
   "execution_count": 1,
   "id": "7a2a892e-cee5-4559-b7f5-cf79511b6ea0",
   "metadata": {},
   "outputs": [
    {
     "name": "stdout",
     "output_type": "stream",
     "text": [
      "Requirement already satisfied: yfinance in c:\\users\\marcelolago\\appdata\\local\\programs\\python\\python313\\lib\\site-packages (0.2.65)\n",
      "Requirement already satisfied: pandas>=1.3.0 in c:\\users\\marcelolago\\appdata\\local\\programs\\python\\python313\\lib\\site-packages (from yfinance) (2.3.1)\n",
      "Requirement already satisfied: numpy>=1.16.5 in c:\\users\\marcelolago\\appdata\\local\\programs\\python\\python313\\lib\\site-packages (from yfinance) (2.2.4)\n",
      "Requirement already satisfied: requests>=2.31 in c:\\users\\marcelolago\\appdata\\local\\programs\\python\\python313\\lib\\site-packages (from yfinance) (2.32.4)\n",
      "Requirement already satisfied: multitasking>=0.0.7 in c:\\users\\marcelolago\\appdata\\local\\programs\\python\\python313\\lib\\site-packages (from yfinance) (0.0.12)\n",
      "Requirement already satisfied: platformdirs>=2.0.0 in c:\\users\\marcelolago\\appdata\\roaming\\python\\python313\\site-packages (from yfinance) (4.3.7)\n",
      "Requirement already satisfied: pytz>=2022.5 in c:\\users\\marcelolago\\appdata\\local\\programs\\python\\python313\\lib\\site-packages (from yfinance) (2025.1)\n",
      "Requirement already satisfied: frozendict>=2.3.4 in c:\\users\\marcelolago\\appdata\\local\\programs\\python\\python313\\lib\\site-packages (from yfinance) (2.4.6)\n",
      "Requirement already satisfied: peewee>=3.16.2 in c:\\users\\marcelolago\\appdata\\local\\programs\\python\\python313\\lib\\site-packages (from yfinance) (3.18.2)\n",
      "Requirement already satisfied: beautifulsoup4>=4.11.1 in c:\\users\\marcelolago\\appdata\\local\\programs\\python\\python313\\lib\\site-packages (from yfinance) (4.13.4)\n",
      "Requirement already satisfied: curl_cffi>=0.7 in c:\\users\\marcelolago\\appdata\\local\\programs\\python\\python313\\lib\\site-packages (from yfinance) (0.12.0)\n",
      "Requirement already satisfied: protobuf>=3.19.0 in c:\\users\\marcelolago\\appdata\\local\\programs\\python\\python313\\lib\\site-packages (from yfinance) (6.31.1)\n",
      "Requirement already satisfied: websockets>=13.0 in c:\\users\\marcelolago\\appdata\\local\\programs\\python\\python313\\lib\\site-packages (from yfinance) (15.0.1)\n",
      "Requirement already satisfied: soupsieve>1.2 in c:\\users\\marcelolago\\appdata\\local\\programs\\python\\python313\\lib\\site-packages (from beautifulsoup4>=4.11.1->yfinance) (2.7)\n",
      "Requirement already satisfied: typing-extensions>=4.0.0 in c:\\users\\marcelolago\\appdata\\local\\programs\\python\\python313\\lib\\site-packages (from beautifulsoup4>=4.11.1->yfinance) (4.14.1)\n",
      "Requirement already satisfied: cffi>=1.12.0 in c:\\users\\marcelolago\\appdata\\local\\programs\\python\\python313\\lib\\site-packages (from curl_cffi>=0.7->yfinance) (1.17.1)\n",
      "Requirement already satisfied: certifi>=2024.2.2 in c:\\users\\marcelolago\\appdata\\local\\programs\\python\\python313\\lib\\site-packages (from curl_cffi>=0.7->yfinance) (2025.7.9)\n",
      "Requirement already satisfied: pycparser in c:\\users\\marcelolago\\appdata\\local\\programs\\python\\python313\\lib\\site-packages (from cffi>=1.12.0->curl_cffi>=0.7->yfinance) (2.22)\n",
      "Requirement already satisfied: python-dateutil>=2.8.2 in c:\\users\\marcelolago\\appdata\\roaming\\python\\python313\\site-packages (from pandas>=1.3.0->yfinance) (2.9.0.post0)\n",
      "Requirement already satisfied: tzdata>=2022.7 in c:\\users\\marcelolago\\appdata\\local\\programs\\python\\python313\\lib\\site-packages (from pandas>=1.3.0->yfinance) (2025.2)\n",
      "Requirement already satisfied: six>=1.5 in c:\\users\\marcelolago\\appdata\\roaming\\python\\python313\\site-packages (from python-dateutil>=2.8.2->pandas>=1.3.0->yfinance) (1.17.0)\n",
      "Requirement already satisfied: charset_normalizer<4,>=2 in c:\\users\\marcelolago\\appdata\\local\\programs\\python\\python313\\lib\\site-packages (from requests>=2.31->yfinance) (3.4.2)\n",
      "Requirement already satisfied: idna<4,>=2.5 in c:\\users\\marcelolago\\appdata\\local\\programs\\python\\python313\\lib\\site-packages (from requests>=2.31->yfinance) (3.10)\n",
      "Requirement already satisfied: urllib3<3,>=1.21.1 in c:\\users\\marcelolago\\appdata\\local\\programs\\python\\python313\\lib\\site-packages (from requests>=2.31->yfinance) (2.5.0)\n",
      "Requirement already satisfied: matplotlib in c:\\users\\marcelolago\\appdata\\local\\programs\\python\\python313\\lib\\site-packages (3.10.1)\n",
      "Requirement already satisfied: contourpy>=1.0.1 in c:\\users\\marcelolago\\appdata\\local\\programs\\python\\python313\\lib\\site-packages (from matplotlib) (1.3.1)\n",
      "Requirement already satisfied: cycler>=0.10 in c:\\users\\marcelolago\\appdata\\local\\programs\\python\\python313\\lib\\site-packages (from matplotlib) (0.12.1)\n",
      "Requirement already satisfied: fonttools>=4.22.0 in c:\\users\\marcelolago\\appdata\\local\\programs\\python\\python313\\lib\\site-packages (from matplotlib) (4.57.0)\n",
      "Requirement already satisfied: kiwisolver>=1.3.1 in c:\\users\\marcelolago\\appdata\\local\\programs\\python\\python313\\lib\\site-packages (from matplotlib) (1.4.8)\n",
      "Requirement already satisfied: numpy>=1.23 in c:\\users\\marcelolago\\appdata\\local\\programs\\python\\python313\\lib\\site-packages (from matplotlib) (2.2.4)\n",
      "Requirement already satisfied: packaging>=20.0 in c:\\users\\marcelolago\\appdata\\roaming\\python\\python313\\site-packages (from matplotlib) (24.2)\n",
      "Requirement already satisfied: pillow>=8 in c:\\users\\marcelolago\\appdata\\local\\programs\\python\\python313\\lib\\site-packages (from matplotlib) (11.2.1)\n",
      "Requirement already satisfied: pyparsing>=2.3.1 in c:\\users\\marcelolago\\appdata\\local\\programs\\python\\python313\\lib\\site-packages (from matplotlib) (3.2.3)\n",
      "Requirement already satisfied: python-dateutil>=2.7 in c:\\users\\marcelolago\\appdata\\roaming\\python\\python313\\site-packages (from matplotlib) (2.9.0.post0)\n",
      "Requirement already satisfied: six>=1.5 in c:\\users\\marcelolago\\appdata\\roaming\\python\\python313\\site-packages (from python-dateutil>=2.7->matplotlib) (1.17.0)\n"
     ]
    }
   ],
   "source": [
    "!pip install yfinance\n",
    "!pip install matplotlib\n",
    "# !pip install pandas==1.3.3"
   ]
  },
  {
   "cell_type": "code",
   "execution_count": 2,
   "id": "4afc32fb-307e-40a9-a459-3849857be455",
   "metadata": {},
   "outputs": [],
   "source": [
    "import yfinance as yf\n",
    "import pandas as pd"
   ]
  },
  {
   "cell_type": "markdown",
   "id": "81357690-7936-479a-8f15-a0d03c617cb4",
   "metadata": {},
   "source": [
    "## Using the yfinance Library to Extract Stock Data\n"
   ]
  },
  {
   "cell_type": "markdown",
   "id": "4c7f64e9-75b1-4cbd-a1b7-5ab1b35f51f1",
   "metadata": {},
   "source": [
    "Using the `Ticker` module we can create an object that will allow us to access functions to extract data. To do this we need to provide the ticker symbol for the stock, here the company is Apple and the ticker symbol is `AAPL`.\n"
   ]
  },
  {
   "cell_type": "code",
   "execution_count": 3,
   "id": "e6dd4047-b3a8-4dcb-b28b-3e4ae7a38a78",
   "metadata": {},
   "outputs": [],
   "source": [
    "apple = yf.Ticker(\"AAPL\")"
   ]
  },
  {
   "cell_type": "markdown",
   "id": "0d567f35-1f78-43ea-8799-646e447ed831",
   "metadata": {},
   "source": [
    "Now we can access functions and variables to extract the type of data we need. You can view them and what they represent here https://aroussi.com/post/python-yahoo-finance.\n"
   ]
  },
  {
   "cell_type": "markdown",
   "id": "e5e31322-ea57-4ca0-9fc4-583122b82bf9",
   "metadata": {},
   "source": [
    "### Stock Info\n"
   ]
  },
  {
   "cell_type": "markdown",
   "id": "38c169f2-ffbd-402f-8150-b349dffcea92",
   "metadata": {},
   "source": [
    "Using the attribute  <code>info</code> we can extract information about the stock as a Python dictionary.\n"
   ]
  },
  {
   "cell_type": "code",
   "execution_count": 4,
   "id": "b7198c9b-1a55-4c4d-84cd-3d00b7787c7a",
   "metadata": {},
   "outputs": [
    {
     "data": {
      "text/plain": [
       "{'address1': 'One Apple Park Way',\n",
       " 'city': 'Cupertino',\n",
       " 'state': 'CA',\n",
       " 'zip': '95014',\n",
       " 'country': 'United States',\n",
       " 'phone': '(408) 996-1010',\n",
       " 'website': 'https://www.apple.com',\n",
       " 'industry': 'Consumer Electronics',\n",
       " 'industryKey': 'consumer-electronics',\n",
       " 'industryDisp': 'Consumer Electronics',\n",
       " 'sector': 'Technology',\n",
       " 'sectorKey': 'technology',\n",
       " 'sectorDisp': 'Technology',\n",
       " 'longBusinessSummary': 'Apple Inc. designs, manufactures, and markets smartphones, personal computers, tablets, wearables, and accessories worldwide. The company offers iPhone, a line of smartphones; Mac, a line of personal computers; iPad, a line of multi-purpose tablets; and wearables, home, and accessories comprising AirPods, Apple TV, Apple Watch, Beats products, and HomePod. It also provides AppleCare support and cloud services; and operates various platforms, including the App Store that allow customers to discover and download applications and digital content, such as books, music, video, games, and podcasts, as well as advertising services include third-party licensing arrangements and its own advertising platforms. In addition, the company offers various subscription-based services, such as Apple Arcade, a game subscription service; Apple Fitness+, a personalized fitness service; Apple Music, which offers users a curated listening experience with on-demand radio stations; Apple News+, a subscription news and magazine service; Apple TV+, which offers exclusive original content; Apple Card, a co-branded credit card; and Apple Pay, a cashless payment service, as well as licenses its intellectual property. The company serves consumers, and small and mid-sized businesses; and the education, enterprise, and government markets. It distributes third-party applications for its products through the App Store. The company also sells its products through its retail and online stores, and direct sales force; and third-party cellular network carriers, wholesalers, retailers, and resellers. Apple Inc. was founded in 1976 and is headquartered in Cupertino, California.',\n",
       " 'fullTimeEmployees': 150000,\n",
       " 'companyOfficers': [{'maxAge': 1,\n",
       "   'name': 'Mr. Timothy D. Cook',\n",
       "   'age': 63,\n",
       "   'title': 'CEO & Director',\n",
       "   'yearBorn': 1961,\n",
       "   'fiscalYear': 2024,\n",
       "   'totalPay': 16520856,\n",
       "   'exercisedValue': 0,\n",
       "   'unexercisedValue': 0},\n",
       "  {'maxAge': 1,\n",
       "   'name': 'Ms. Katherine L. Adams',\n",
       "   'age': 60,\n",
       "   'title': 'Senior VP, General Counsel & Secretary',\n",
       "   'yearBorn': 1964,\n",
       "   'fiscalYear': 2024,\n",
       "   'totalPay': 5022182,\n",
       "   'exercisedValue': 0,\n",
       "   'unexercisedValue': 0},\n",
       "  {'maxAge': 1,\n",
       "   'name': \"Ms. Deirdre  O'Brien\",\n",
       "   'age': 57,\n",
       "   'title': 'Chief People Officer & Senior VP of Retail',\n",
       "   'yearBorn': 1967,\n",
       "   'fiscalYear': 2024,\n",
       "   'totalPay': 5022182,\n",
       "   'exercisedValue': 0,\n",
       "   'unexercisedValue': 0},\n",
       "  {'maxAge': 1,\n",
       "   'name': 'Mr. Jeffrey E. Williams',\n",
       "   'age': 60,\n",
       "   'title': 'Senior Vice President of Design, Watch, & Health',\n",
       "   'yearBorn': 1964,\n",
       "   'fiscalYear': 2024,\n",
       "   'totalPay': 5020737,\n",
       "   'exercisedValue': 0,\n",
       "   'unexercisedValue': 0},\n",
       "  {'maxAge': 1,\n",
       "   'name': 'Mr. Kevan  Parekh',\n",
       "   'age': 52,\n",
       "   'title': 'Senior VP & CFO',\n",
       "   'yearBorn': 1972,\n",
       "   'fiscalYear': 2024,\n",
       "   'exercisedValue': 0,\n",
       "   'unexercisedValue': 0},\n",
       "  {'maxAge': 1,\n",
       "   'name': 'Mr. Sabih  Khan',\n",
       "   'title': 'Chief Operating Officer',\n",
       "   'fiscalYear': 2024,\n",
       "   'exercisedValue': 0,\n",
       "   'unexercisedValue': 0},\n",
       "  {'maxAge': 1,\n",
       "   'name': 'Mr. Chris  Kondo',\n",
       "   'title': 'Senior Director of Corporate Accounting',\n",
       "   'fiscalYear': 2024,\n",
       "   'exercisedValue': 0,\n",
       "   'unexercisedValue': 0},\n",
       "  {'maxAge': 1,\n",
       "   'name': 'Suhasini  Chandramouli',\n",
       "   'title': 'Director of Investor Relations',\n",
       "   'fiscalYear': 2024,\n",
       "   'exercisedValue': 0,\n",
       "   'unexercisedValue': 0},\n",
       "  {'maxAge': 1,\n",
       "   'name': 'Ms. Kristin Huguet Quayle',\n",
       "   'title': 'Vice President of Worldwide Communications',\n",
       "   'fiscalYear': 2024,\n",
       "   'exercisedValue': 0,\n",
       "   'unexercisedValue': 0},\n",
       "  {'maxAge': 1,\n",
       "   'name': 'Mr. Greg  Joswiak',\n",
       "   'title': 'Senior Vice President of Worldwide Marketing',\n",
       "   'fiscalYear': 2024,\n",
       "   'exercisedValue': 0,\n",
       "   'unexercisedValue': 0}],\n",
       " 'auditRisk': 7,\n",
       " 'boardRisk': 1,\n",
       " 'compensationRisk': 3,\n",
       " 'shareHolderRightsRisk': 1,\n",
       " 'overallRisk': 1,\n",
       " 'governanceEpochDate': 1754006400,\n",
       " 'compensationAsOfEpochDate': 1735603200,\n",
       " 'irWebsite': 'http://investor.apple.com/',\n",
       " 'executiveTeam': [],\n",
       " 'maxAge': 86400,\n",
       " 'priceHint': 2,\n",
       " 'previousClose': 207.57,\n",
       " 'open': 210.89,\n",
       " 'dayLow': 201.5,\n",
       " 'dayHigh': 213.58,\n",
       " 'regularMarketPreviousClose': 207.57,\n",
       " 'regularMarketOpen': 210.89,\n",
       " 'regularMarketDayLow': 201.5,\n",
       " 'regularMarketDayHigh': 213.58,\n",
       " 'dividendRate': 1.04,\n",
       " 'dividendYield': 0.51,\n",
       " 'exDividendDate': 1754870400,\n",
       " 'payoutRatio': 0.1533,\n",
       " 'fiveYearAvgDividendYield': 0.55,\n",
       " 'beta': 1.199,\n",
       " 'trailingPE': 30.663637,\n",
       " 'forwardPE': 24.35379,\n",
       " 'volume': 97203859,\n",
       " 'regularMarketVolume': 97203859,\n",
       " 'averageVolume': 53580620,\n",
       " 'averageVolume10days': 55084450,\n",
       " 'averageDailyVolume10Day': 55084450,\n",
       " 'bid': 192.07,\n",
       " 'ask': 213.25,\n",
       " 'bidSize': 1,\n",
       " 'askSize': 1,\n",
       " 'marketCap': 3003400323072,\n",
       " 'fiftyTwoWeekLow': 169.21,\n",
       " 'fiftyTwoWeekHigh': 260.1,\n",
       " 'priceToSalesTrailing12Months': 7.350016,\n",
       " 'fiftyDayAverage': 205.277,\n",
       " 'twoHundredDayAverage': 221.5797,\n",
       " 'trailingAnnualDividendRate': 1.01,\n",
       " 'trailingAnnualDividendYield': 0.004865828,\n",
       " 'currency': 'USD',\n",
       " 'tradeable': False,\n",
       " 'enterpriseValue': 3049724051456,\n",
       " 'profitMargins': 0.24295999,\n",
       " 'floatShares': 14814864529,\n",
       " 'sharesOutstanding': 14840399872,\n",
       " 'sharesShort': 93946599,\n",
       " 'sharesShortPriorMonth': 100226522,\n",
       " 'sharesShortPreviousMonthDate': 1749772800,\n",
       " 'dateShortInterest': 1752537600,\n",
       " 'sharesPercentSharesOut': 0.0063,\n",
       " 'heldPercentInsiders': 0.02103,\n",
       " 'heldPercentInstitutions': 0.63300997,\n",
       " 'shortRatio': 1.74,\n",
       " 'shortPercentOfFloat': 0.0063,\n",
       " 'impliedSharesOutstanding': 15318899712,\n",
       " 'bookValue': 4.431,\n",
       " 'priceToBook': 45.67366,\n",
       " 'lastFiscalYearEnd': 1727481600,\n",
       " 'nextFiscalYearEnd': 1759017600,\n",
       " 'mostRecentQuarter': 1751068800,\n",
       " 'earningsQuarterlyGrowth': 0.093,\n",
       " 'netIncomeToCommon': 99280003072,\n",
       " 'trailingEps': 6.6,\n",
       " 'forwardEps': 8.31,\n",
       " 'lastSplitFactor': '4:1',\n",
       " 'lastSplitDate': 1598832000,\n",
       " 'enterpriseToRevenue': 7.463,\n",
       " 'enterpriseToEbitda': 21.523,\n",
       " '52WeekChange': -0.032923996,\n",
       " 'SandP52WeekChange': 0.20277917,\n",
       " 'lastDividendValue': 0.26,\n",
       " 'lastDividendDate': 1747008000,\n",
       " 'quoteType': 'EQUITY',\n",
       " 'currentPrice': 202.38,\n",
       " 'targetHighPrice': 300.0,\n",
       " 'targetLowPrice': 175.0,\n",
       " 'targetMeanPrice': 232.63078,\n",
       " 'targetMedianPrice': 238.0,\n",
       " 'recommendationMean': 1.93333,\n",
       " 'recommendationKey': 'buy',\n",
       " 'numberOfAnalystOpinions': 38,\n",
       " 'totalCash': 55372001280,\n",
       " 'totalCashPerShare': 3.731,\n",
       " 'ebitda': 141696008192,\n",
       " 'totalDebt': 101698002944,\n",
       " 'quickRatio': 0.724,\n",
       " 'currentRatio': 0.868,\n",
       " 'totalRevenue': 408624988160,\n",
       " 'debtToEquity': 154.486,\n",
       " 'revenuePerShare': 27.173,\n",
       " 'returnOnAssets': 0.24545999,\n",
       " 'returnOnEquity': 1.49814,\n",
       " 'grossProfits': 190739005440,\n",
       " 'freeCashflow': 94873747456,\n",
       " 'operatingCashflow': 108564996096,\n",
       " 'earningsGrowth': 0.121,\n",
       " 'revenueGrowth': 0.096,\n",
       " 'grossMargins': 0.46678,\n",
       " 'ebitdaMargins': 0.34675997,\n",
       " 'operatingMargins': 0.29990998,\n",
       " 'financialCurrency': 'USD',\n",
       " 'symbol': 'AAPL',\n",
       " 'language': 'en-US',\n",
       " 'region': 'US',\n",
       " 'typeDisp': 'Equity',\n",
       " 'quoteSourceName': 'Delayed Quote',\n",
       " 'triggerable': True,\n",
       " 'customPriceAlertConfidence': 'HIGH',\n",
       " 'marketState': 'CLOSED',\n",
       " 'regularMarketChangePercent': -2.5003624,\n",
       " 'regularMarketPrice': 202.38,\n",
       " 'corporateActions': [{'header': 'Dividend',\n",
       "   'message': 'AAPL announced a cash dividend of 0.26 with an ex-date of Aug. 11, 2025',\n",
       "   'meta': {'eventType': 'DIVIDEND',\n",
       "    'dateEpochMs': 1754884800000,\n",
       "    'amount': '0.26'}}],\n",
       " 'postMarketTime': 1754092799,\n",
       " 'regularMarketTime': 1754078402,\n",
       " 'exchange': 'NMS',\n",
       " 'messageBoardId': 'finmb_24937',\n",
       " 'exchangeTimezoneName': 'America/New_York',\n",
       " 'exchangeTimezoneShortName': 'EDT',\n",
       " 'gmtOffSetMilliseconds': -14400000,\n",
       " 'market': 'us_market',\n",
       " 'esgPopulated': False,\n",
       " 'shortName': 'Apple Inc.',\n",
       " 'longName': 'Apple Inc.',\n",
       " 'averageAnalystRating': '1.9 - Buy',\n",
       " 'cryptoTradeable': False,\n",
       " 'postMarketChangePercent': -0.0395305,\n",
       " 'postMarketPrice': 202.3,\n",
       " 'postMarketChange': -0.08000183,\n",
       " 'regularMarketChange': -5.1900024,\n",
       " 'regularMarketDayRange': '201.5 - 213.58',\n",
       " 'fullExchangeName': 'NasdaqGS',\n",
       " 'averageDailyVolume3Month': 53580620,\n",
       " 'fiftyTwoWeekLowChange': 33.17,\n",
       " 'fiftyTwoWeekLowChangePercent': 0.19602859,\n",
       " 'fiftyTwoWeekRange': '169.21 - 260.1',\n",
       " 'fiftyTwoWeekHighChange': -57.72,\n",
       " 'fiftyTwoWeekHighChangePercent': -0.22191465,\n",
       " 'fiftyTwoWeekChangePercent': -3.2923996,\n",
       " 'dividendDate': 1747267200,\n",
       " 'earningsTimestamp': 1753992000,\n",
       " 'earningsTimestampStart': 1761854400,\n",
       " 'earningsTimestampEnd': 1761854400,\n",
       " 'earningsCallTimestampStart': 1753995600,\n",
       " 'earningsCallTimestampEnd': 1753995600,\n",
       " 'isEarningsDateEstimate': True,\n",
       " 'epsTrailingTwelveMonths': 6.6,\n",
       " 'epsForward': 8.31,\n",
       " 'epsCurrentYear': 7.38075,\n",
       " 'priceEpsCurrentYear': 27.419977,\n",
       " 'fiftyDayAverageChange': -2.896988,\n",
       " 'fiftyDayAverageChangePercent': -0.01411258,\n",
       " 'twoHundredDayAverageChange': -19.199692,\n",
       " 'twoHundredDayAverageChangePercent': -0.08664915,\n",
       " 'sourceInterval': 15,\n",
       " 'exchangeDataDelayedBy': 0,\n",
       " 'hasPrePostMarketData': True,\n",
       " 'firstTradeDateMilliseconds': 345479400000,\n",
       " 'displayName': 'Apple',\n",
       " 'trailingPegRatio': 1.887}"
      ]
     },
     "execution_count": 4,
     "metadata": {},
     "output_type": "execute_result"
    }
   ],
   "source": [
    "apple_info=apple.info\n",
    "apple_info"
   ]
  },
  {
   "cell_type": "markdown",
   "id": "992b6678-3f6a-4d62-bb45-5a4b8127b964",
   "metadata": {},
   "source": [
    "We can get the <code>'country'</code> using the key country\n"
   ]
  },
  {
   "cell_type": "code",
   "execution_count": 5,
   "id": "4591c5b8-8ac9-4f98-a0e3-60a330db0748",
   "metadata": {},
   "outputs": [
    {
     "data": {
      "text/plain": [
       "'United States'"
      ]
     },
     "execution_count": 5,
     "metadata": {},
     "output_type": "execute_result"
    }
   ],
   "source": [
    "apple_info['country']"
   ]
  },
  {
   "cell_type": "markdown",
   "id": "5d7c65d9-b5a6-4cee-badb-1ea90009e123",
   "metadata": {},
   "source": [
    "### Extracting Share Price\n"
   ]
  },
  {
   "cell_type": "markdown",
   "id": "4a107c19-b563-4ad8-b5ff-7e27623bd1fb",
   "metadata": {},
   "source": [
    "A share is the single smallest part of a company's stock  that you can buy, the prices of these shares fluctuate over time. Using the <code>history()</code> method we can get the share price of the stock over a certain period of time. Using the `period` parameter we can set how far back from the present to get data. The options for `period` are 1 day (1d), 5d, 1 month (1mo) , 3mo, 6mo, 1 year (1y), 2y, 5y, 10y, ytd, and max.\n"
   ]
  },
  {
   "cell_type": "code",
   "execution_count": 6,
   "id": "2f5454ed-e99b-41a8-be21-56dc7562ff10",
   "metadata": {},
   "outputs": [],
   "source": [
    "apple_share_price_data = apple.history(period=\"max\")"
   ]
  },
  {
   "cell_type": "markdown",
   "id": "799ce961-fafc-4271-b3a5-f5da3ecdd610",
   "metadata": {},
   "source": [
    "The format that the data is returned in is a Pandas DataFrame. With the `Date` as the index the share `Open`, `High`, `Low`, `Close`, `Volume`, and `Stock Splits` are given for each day.\n"
   ]
  },
  {
   "cell_type": "code",
   "execution_count": 7,
   "id": "26776b25-a94a-4a64-8bc7-7a1ba5bb37d1",
   "metadata": {},
   "outputs": [
    {
     "data": {
      "application/vnd.microsoft.datawrangler.viewer.v0+json": {
       "columns": [
        {
         "name": "Date",
         "rawType": "datetime64[ns, America/New_York]",
         "type": "unknown"
        },
        {
         "name": "Open",
         "rawType": "float64",
         "type": "float"
        },
        {
         "name": "High",
         "rawType": "float64",
         "type": "float"
        },
        {
         "name": "Low",
         "rawType": "float64",
         "type": "float"
        },
        {
         "name": "Close",
         "rawType": "float64",
         "type": "float"
        },
        {
         "name": "Volume",
         "rawType": "int64",
         "type": "integer"
        },
        {
         "name": "Dividends",
         "rawType": "float64",
         "type": "float"
        },
        {
         "name": "Stock Splits",
         "rawType": "float64",
         "type": "float"
        }
       ],
       "ref": "fd4d30b0-dd3c-4266-8857-80cdbee15650",
       "rows": [
        [
         "1980-12-12 00:00:00-05:00",
         "0.09859664738178253",
         "0.09902530466742138",
         "0.09859664738178253",
         "0.09859664738178253",
         "469033600",
         "0.0",
         "0.0"
        ],
        [
         "1980-12-15 00:00:00-05:00",
         "0.0938814311544868",
         "0.0938814311544868",
         "0.09345277398824692",
         "0.09345277398824692",
         "175884800",
         "0.0",
         "0.0"
        ],
        [
         "1980-12-16 00:00:00-05:00",
         "0.0870222049421365",
         "0.0870222049421365",
         "0.08659355342388153",
         "0.08659355342388153",
         "105728000",
         "0.0",
         "0.0"
        ],
        [
         "1980-12-17 00:00:00-05:00",
         "0.08873681724071503",
         "0.08916547445726596",
         "0.08873681724071503",
         "0.08873681724071503",
         "86441600",
         "0.0",
         "0.0"
        ],
        [
         "1980-12-18 00:00:00-05:00",
         "0.09130950272083282",
         "0.09173815415131714",
         "0.09130950272083282",
         "0.09130950272083282",
         "73449600",
         "0.0",
         "0.0"
        ]
       ],
       "shape": {
        "columns": 7,
        "rows": 5
       }
      },
      "text/html": [
       "<div>\n",
       "<style scoped>\n",
       "    .dataframe tbody tr th:only-of-type {\n",
       "        vertical-align: middle;\n",
       "    }\n",
       "\n",
       "    .dataframe tbody tr th {\n",
       "        vertical-align: top;\n",
       "    }\n",
       "\n",
       "    .dataframe thead th {\n",
       "        text-align: right;\n",
       "    }\n",
       "</style>\n",
       "<table border=\"1\" class=\"dataframe\">\n",
       "  <thead>\n",
       "    <tr style=\"text-align: right;\">\n",
       "      <th></th>\n",
       "      <th>Open</th>\n",
       "      <th>High</th>\n",
       "      <th>Low</th>\n",
       "      <th>Close</th>\n",
       "      <th>Volume</th>\n",
       "      <th>Dividends</th>\n",
       "      <th>Stock Splits</th>\n",
       "    </tr>\n",
       "    <tr>\n",
       "      <th>Date</th>\n",
       "      <th></th>\n",
       "      <th></th>\n",
       "      <th></th>\n",
       "      <th></th>\n",
       "      <th></th>\n",
       "      <th></th>\n",
       "      <th></th>\n",
       "    </tr>\n",
       "  </thead>\n",
       "  <tbody>\n",
       "    <tr>\n",
       "      <th>1980-12-12 00:00:00-05:00</th>\n",
       "      <td>0.098597</td>\n",
       "      <td>0.099025</td>\n",
       "      <td>0.098597</td>\n",
       "      <td>0.098597</td>\n",
       "      <td>469033600</td>\n",
       "      <td>0.0</td>\n",
       "      <td>0.0</td>\n",
       "    </tr>\n",
       "    <tr>\n",
       "      <th>1980-12-15 00:00:00-05:00</th>\n",
       "      <td>0.093881</td>\n",
       "      <td>0.093881</td>\n",
       "      <td>0.093453</td>\n",
       "      <td>0.093453</td>\n",
       "      <td>175884800</td>\n",
       "      <td>0.0</td>\n",
       "      <td>0.0</td>\n",
       "    </tr>\n",
       "    <tr>\n",
       "      <th>1980-12-16 00:00:00-05:00</th>\n",
       "      <td>0.087022</td>\n",
       "      <td>0.087022</td>\n",
       "      <td>0.086594</td>\n",
       "      <td>0.086594</td>\n",
       "      <td>105728000</td>\n",
       "      <td>0.0</td>\n",
       "      <td>0.0</td>\n",
       "    </tr>\n",
       "    <tr>\n",
       "      <th>1980-12-17 00:00:00-05:00</th>\n",
       "      <td>0.088737</td>\n",
       "      <td>0.089165</td>\n",
       "      <td>0.088737</td>\n",
       "      <td>0.088737</td>\n",
       "      <td>86441600</td>\n",
       "      <td>0.0</td>\n",
       "      <td>0.0</td>\n",
       "    </tr>\n",
       "    <tr>\n",
       "      <th>1980-12-18 00:00:00-05:00</th>\n",
       "      <td>0.091310</td>\n",
       "      <td>0.091738</td>\n",
       "      <td>0.091310</td>\n",
       "      <td>0.091310</td>\n",
       "      <td>73449600</td>\n",
       "      <td>0.0</td>\n",
       "      <td>0.0</td>\n",
       "    </tr>\n",
       "  </tbody>\n",
       "</table>\n",
       "</div>"
      ],
      "text/plain": [
       "                               Open      High       Low     Close     Volume  \\\n",
       "Date                                                                           \n",
       "1980-12-12 00:00:00-05:00  0.098597  0.099025  0.098597  0.098597  469033600   \n",
       "1980-12-15 00:00:00-05:00  0.093881  0.093881  0.093453  0.093453  175884800   \n",
       "1980-12-16 00:00:00-05:00  0.087022  0.087022  0.086594  0.086594  105728000   \n",
       "1980-12-17 00:00:00-05:00  0.088737  0.089165  0.088737  0.088737   86441600   \n",
       "1980-12-18 00:00:00-05:00  0.091310  0.091738  0.091310  0.091310   73449600   \n",
       "\n",
       "                           Dividends  Stock Splits  \n",
       "Date                                                \n",
       "1980-12-12 00:00:00-05:00        0.0           0.0  \n",
       "1980-12-15 00:00:00-05:00        0.0           0.0  \n",
       "1980-12-16 00:00:00-05:00        0.0           0.0  \n",
       "1980-12-17 00:00:00-05:00        0.0           0.0  \n",
       "1980-12-18 00:00:00-05:00        0.0           0.0  "
      ]
     },
     "execution_count": 7,
     "metadata": {},
     "output_type": "execute_result"
    }
   ],
   "source": [
    "apple_share_price_data.head()"
   ]
  },
  {
   "cell_type": "markdown",
   "id": "650c779a-60e1-476d-afe8-734cafbdc6ef",
   "metadata": {},
   "source": [
    "We can reset the index of the DataFrame with the `reset_index` function. We also set the `inplace` paramter to `True` so the change takes place to the DataFrame itself.\n"
   ]
  },
  {
   "cell_type": "code",
   "execution_count": 8,
   "id": "18a34b41-c696-48bf-ab18-465d0d0f6d4f",
   "metadata": {},
   "outputs": [],
   "source": [
    "apple_share_price_data.reset_index(inplace=True)"
   ]
  },
  {
   "cell_type": "markdown",
   "id": "f078ae14-58d4-43b3-b418-c4021a0bde63",
   "metadata": {},
   "source": [
    "We can plot the `Open` price against the `Date`:\n"
   ]
  },
  {
   "cell_type": "code",
   "execution_count": 11,
   "id": "019579f3-9c32-4849-a1d8-abe7b60b8969",
   "metadata": {},
   "outputs": [
    {
     "data": {
      "text/plain": [
       "<Axes: xlabel='Date'>"
      ]
     },
     "execution_count": 11,
     "metadata": {},
     "output_type": "execute_result"
    },
    {
     "data": {
      "image/png": "[encoded data removed]",
      "text/plain": [
       "<Figure size 640x480 with 1 Axes>"
      ]
     },
     "metadata": {},
     "output_type": "display_data"
    }
   ],
   "source": [
    "apple_share_price_data.plot(x=\"Date\", y=\"Open\")"
   ]
  },
  {
   "cell_type": "markdown",
   "metadata": {},
   "source": [
    "We can filter from 2015 to a better visualization of the `Open` price against the `Date`:\n"
   ]
  },
  {
   "cell_type": "code",
   "execution_count": 10,
   "metadata": {},
   "outputs": [
    {
     "data": {
      "text/plain": [
       "<Axes: xlabel='Date'>"
      ]
     },
     "execution_count": 10,
     "metadata": {},
     "output_type": "execute_result"
    },
    {
     "data": {
      "image/png": "[encoded data removed]",
      "text/plain": [
       "<Figure size 640x480 with 1 Axes>"
      ]
     },
     "metadata": {},
     "output_type": "display_data"
    }
   ],
   "source": [
    "filtered_data = apple_share_price_data[apple_share_price_data[\"Date\"] >= \"2015-01-01\"]\n",
    "\n",
    "# Plot\n",
    "filtered_data.plot(x=\"Date\", y=\"Open\")"
   ]
  },
  {
   "cell_type": "markdown",
   "metadata": {},
   "source": [
    "We can plot the `Open` price against the `Date`:\n"
   ]
  },
  {
   "cell_type": "markdown",
   "id": "6aa7c275-db12-4186-ab6f-d26c53aaed09",
   "metadata": {},
   "source": [
    "### Extracting Dividends\n"
   ]
  },
  {
   "cell_type": "markdown",
   "id": "c21a4fcd-a3d2-41a1-b9b0-4f27004f28e0",
   "metadata": {},
   "source": [
    "Dividends are the distribution of a companys profits to shareholders. In this case they are defined as an amount of money returned per share an investor owns. Using the variable `dividends` we can get a dataframe of the data. The period of the data is given by the period defined in the 'history` function.\n"
   ]
  },
  {
   "cell_type": "code",
   "execution_count": 12,
   "id": "54ae5aaa-e9f1-484f-9ffc-9cc84e58dbbb",
   "metadata": {},
   "outputs": [
    {
     "data": {
      "application/vnd.microsoft.datawrangler.viewer.v0+json": {
       "columns": [
        {
         "name": "Date",
         "rawType": "datetime64[ns, America/New_York]",
         "type": "unknown"
        },
        {
         "name": "Dividends",
         "rawType": "float64",
         "type": "float"
        }
       ],
       "ref": "e7a36b79-2be2-4698-ba01-75633804950b",
       "rows": [
        [
         "1987-05-11 00:00:00-04:00",
         "0.000536"
        ],
        [
         "1987-08-10 00:00:00-04:00",
         "0.000536"
        ],
        [
         "1987-11-17 00:00:00-05:00",
         "0.000714"
        ],
        [
         "1988-02-12 00:00:00-05:00",
         "0.000714"
        ],
        [
         "1988-05-16 00:00:00-04:00",
         "0.000714"
        ],
        [
         "1988-08-15 00:00:00-04:00",
         "0.000714"
        ],
        [
         "1988-11-21 00:00:00-05:00",
         "0.000893"
        ],
        [
         "1989-02-17 00:00:00-05:00",
         "0.000893"
        ],
        [
         "1989-05-22 00:00:00-04:00",
         "0.000893"
        ],
        [
         "1989-08-21 00:00:00-04:00",
         "0.000893"
        ],
        [
         "1989-11-17 00:00:00-05:00",
         "0.000982"
        ],
        [
         "1990-02-16 00:00:00-05:00",
         "0.000982"
        ],
        [
         "1990-05-21 00:00:00-04:00",
         "0.000982"
        ],
        [
         "1990-08-20 00:00:00-04:00",
         "0.000982"
        ],
        [
         "1990-11-16 00:00:00-05:00",
         "0.001071"
        ],
        [
         "1991-02-15 00:00:00-05:00",
         "0.001071"
        ],
        [
         "1991-05-20 00:00:00-04:00",
         "0.001071"
        ],
        [
         "1991-08-19 00:00:00-04:00",
         "0.001071"
        ],
        [
         "1991-11-18 00:00:00-05:00",
         "0.001071"
        ],
        [
         "1992-02-14 00:00:00-05:00",
         "0.001071"
        ],
        [
         "1992-06-01 00:00:00-04:00",
         "0.001071"
        ],
        [
         "1992-08-17 00:00:00-04:00",
         "0.001071"
        ],
        [
         "1992-11-30 00:00:00-05:00",
         "0.001071"
        ],
        [
         "1993-02-12 00:00:00-05:00",
         "0.001071"
        ],
        [
         "1993-05-28 00:00:00-04:00",
         "0.001071"
        ],
        [
         "1993-08-16 00:00:00-04:00",
         "0.001071"
        ],
        [
         "1993-11-19 00:00:00-05:00",
         "0.001071"
        ],
        [
         "1994-02-07 00:00:00-05:00",
         "0.001071"
        ],
        [
         "1994-05-27 00:00:00-04:00",
         "0.001071"
        ],
        [
         "1994-08-15 00:00:00-04:00",
         "0.001071"
        ],
        [
         "1994-11-18 00:00:00-05:00",
         "0.001071"
        ],
        [
         "1995-02-13 00:00:00-05:00",
         "0.001071"
        ],
        [
         "1995-05-26 00:00:00-04:00",
         "0.001071"
        ],
        [
         "1995-08-16 00:00:00-04:00",
         "0.001071"
        ],
        [
         "1995-11-21 00:00:00-05:00",
         "0.001071"
        ],
        [
         "2012-08-09 00:00:00-04:00",
         "0.094643"
        ],
        [
         "2012-11-07 00:00:00-05:00",
         "0.094643"
        ],
        [
         "2013-02-07 00:00:00-05:00",
         "0.094643"
        ],
        [
         "2013-05-09 00:00:00-04:00",
         "0.108929"
        ],
        [
         "2013-08-08 00:00:00-04:00",
         "0.108929"
        ],
        [
         "2013-11-06 00:00:00-05:00",
         "0.108929"
        ],
        [
         "2014-02-06 00:00:00-05:00",
         "0.108929"
        ],
        [
         "2014-05-08 00:00:00-04:00",
         "0.1175"
        ],
        [
         "2014-08-07 00:00:00-04:00",
         "0.1175"
        ],
        [
         "2014-11-06 00:00:00-05:00",
         "0.1175"
        ],
        [
         "2015-02-05 00:00:00-05:00",
         "0.1175"
        ],
        [
         "2015-05-07 00:00:00-04:00",
         "0.13"
        ],
        [
         "2015-08-06 00:00:00-04:00",
         "0.13"
        ],
        [
         "2015-11-05 00:00:00-05:00",
         "0.13"
        ],
        [
         "2016-02-04 00:00:00-05:00",
         "0.13"
        ]
       ],
       "shape": {
        "columns": 1,
        "rows": 87
       }
      },
      "text/plain": [
       "Date\n",
       "1987-05-11 00:00:00-04:00    0.000536\n",
       "1987-08-10 00:00:00-04:00    0.000536\n",
       "1987-11-17 00:00:00-05:00    0.000714\n",
       "1988-02-12 00:00:00-05:00    0.000714\n",
       "1988-05-16 00:00:00-04:00    0.000714\n",
       "                               ...   \n",
       "2024-05-10 00:00:00-04:00    0.250000\n",
       "2024-08-12 00:00:00-04:00    0.250000\n",
       "2024-11-08 00:00:00-05:00    0.250000\n",
       "2025-02-10 00:00:00-05:00    0.250000\n",
       "2025-05-12 00:00:00-04:00    0.260000\n",
       "Name: Dividends, Length: 87, dtype: float64"
      ]
     },
     "execution_count": 12,
     "metadata": {},
     "output_type": "execute_result"
    }
   ],
   "source": [
    "apple.dividends"
   ]
  },
  {
   "cell_type": "markdown",
   "id": "fe7cce56-43f2-4c7f-b526-3c723e42fb69",
   "metadata": {},
   "source": [
    "We can plot the dividends overtime:\n"
   ]
  },
  {
   "cell_type": "code",
   "execution_count": 13,
   "id": "06d16637-f24f-412e-b456-67e40c298e72",
   "metadata": {},
   "outputs": [
    {
     "data": {
      "text/plain": [
       "<Axes: xlabel='Date'>"
      ]
     },
     "execution_count": 13,
     "metadata": {},
     "output_type": "execute_result"
    },
    {
     "data": {
      "image/png": "[encoded data removed]",
      "text/plain": [
       "<Figure size 640x480 with 1 Axes>"
      ]
     },
     "metadata": {},
     "output_type": "display_data"
    }
   ],
   "source": [
    "apple.dividends.plot()"
   ]
  },
  {
   "cell_type": "markdown",
   "id": "2aaa2bfe-95f8-4258-8a14-9ed865dae2b9",
   "metadata": {},
   "source": [
    "## Exercise \n"
   ]
  },
  {
   "cell_type": "markdown",
   "id": "80a48739-5644-40e2-baca-66aca0424ac5",
   "metadata": {},
   "source": [
    "Now using the `Ticker` module create an object for AMD (Advanced Micro Devices) with the ticker symbol is `AMD` called; name the object <code>amd</code>.\n"
   ]
  },
  {
   "cell_type": "code",
   "execution_count": 14,
   "id": "bf4f748f-c808-40d2-8437-774826fa3c03",
   "metadata": {},
   "outputs": [],
   "source": [
    "amd = yf.Ticker('AMD')"
   ]
  },
  {
   "cell_type": "markdown",
   "id": "836eb535-9805-4653-843f-f7b01adf4dc6",
   "metadata": {},
   "source": [
    "<b>Question 1</b> Use the key  <code>'country'</code> to find the country the stock belongs to, remember it as it will be a quiz question.\n"
   ]
  },
  {
   "cell_type": "code",
   "execution_count": 15,
   "id": "b70db133-9c79-4229-84eb-a44be86b9267",
   "metadata": {},
   "outputs": [
    {
     "data": {
      "text/plain": [
       "'United States'"
      ]
     },
     "execution_count": 15,
     "metadata": {},
     "output_type": "execute_result"
    }
   ],
   "source": [
    "amd.info['country']"
   ]
  },
  {
   "cell_type": "markdown",
   "id": "0d81e0b4-fd8c-45d1-8be0-ae4f5b9ae43b",
   "metadata": {},
   "source": [
    "<b>Question 2</b> Use the key  <code>'sector'</code> to find the sector the stock belongs to, remember it as it will be a quiz question.\n"
   ]
  },
  {
   "cell_type": "code",
   "execution_count": 16,
   "id": "c947a51a-b252-4e82-ac13-077a1abbf4f2",
   "metadata": {},
   "outputs": [
    {
     "data": {
      "text/plain": [
       "'Technology'"
      ]
     },
     "execution_count": 16,
     "metadata": {},
     "output_type": "execute_result"
    }
   ],
   "source": [
    "amd.info['sector']"
   ]
  },
  {
   "cell_type": "markdown",
   "id": "66488251-1a6e-4006-b11a-7a2dcc65079b",
   "metadata": {},
   "source": [
    "<b>Question 3</b> Obtain stock data for AMD using the `history` function, set the `period` to max. Find the `Volume` traded on the first day (first row).\n"
   ]
  },
  {
   "cell_type": "code",
   "execution_count": 17,
   "id": "e32927d2-ec08-4fea-bae5-5aa9028cb993",
   "metadata": {},
   "outputs": [
    {
     "data": {
      "application/vnd.microsoft.datawrangler.viewer.v0+json": {
       "columns": [
        {
         "name": "Date",
         "rawType": "datetime64[ns, America/New_York]",
         "type": "unknown"
        },
        {
         "name": "Open",
         "rawType": "float64",
         "type": "float"
        },
        {
         "name": "High",
         "rawType": "float64",
         "type": "float"
        },
        {
         "name": "Low",
         "rawType": "float64",
         "type": "float"
        },
        {
         "name": "Close",
         "rawType": "float64",
         "type": "float"
        },
        {
         "name": "Volume",
         "rawType": "int64",
         "type": "integer"
        },
        {
         "name": "Dividends",
         "rawType": "float64",
         "type": "float"
        },
        {
         "name": "Stock Splits",
         "rawType": "float64",
         "type": "float"
        }
       ],
       "ref": "c0aa5673-f912-48b2-a8c5-88cad63ae4ea",
       "rows": [
        [
         "1980-03-17 00:00:00-05:00",
         "3.125",
         "3.3020830154418945",
         "3.125",
         "3.1458330154418945",
         "219600",
         "0.0",
         "0.0"
        ]
       ],
       "shape": {
        "columns": 7,
        "rows": 1
       }
      },
      "text/html": [
       "<div>\n",
       "<style scoped>\n",
       "    .dataframe tbody tr th:only-of-type {\n",
       "        vertical-align: middle;\n",
       "    }\n",
       "\n",
       "    .dataframe tbody tr th {\n",
       "        vertical-align: top;\n",
       "    }\n",
       "\n",
       "    .dataframe thead th {\n",
       "        text-align: right;\n",
       "    }\n",
       "</style>\n",
       "<table border=\"1\" class=\"dataframe\">\n",
       "  <thead>\n",
       "    <tr style=\"text-align: right;\">\n",
       "      <th></th>\n",
       "      <th>Open</th>\n",
       "      <th>High</th>\n",
       "      <th>Low</th>\n",
       "      <th>Close</th>\n",
       "      <th>Volume</th>\n",
       "      <th>Dividends</th>\n",
       "      <th>Stock Splits</th>\n",
       "    </tr>\n",
       "    <tr>\n",
       "      <th>Date</th>\n",
       "      <th></th>\n",
       "      <th></th>\n",
       "      <th></th>\n",
       "      <th></th>\n",
       "      <th></th>\n",
       "      <th></th>\n",
       "      <th></th>\n",
       "    </tr>\n",
       "  </thead>\n",
       "  <tbody>\n",
       "    <tr>\n",
       "      <th>1980-03-17 00:00:00-05:00</th>\n",
       "      <td>3.125</td>\n",
       "      <td>3.302083</td>\n",
       "      <td>3.125</td>\n",
       "      <td>3.145833</td>\n",
       "      <td>219600</td>\n",
       "      <td>0.0</td>\n",
       "      <td>0.0</td>\n",
       "    </tr>\n",
       "  </tbody>\n",
       "</table>\n",
       "</div>"
      ],
      "text/plain": [
       "                            Open      High    Low     Close  Volume  \\\n",
       "Date                                                                  \n",
       "1980-03-17 00:00:00-05:00  3.125  3.302083  3.125  3.145833  219600   \n",
       "\n",
       "                           Dividends  Stock Splits  \n",
       "Date                                                \n",
       "1980-03-17 00:00:00-05:00        0.0           0.0  "
      ]
     },
     "execution_count": 17,
     "metadata": {},
     "output_type": "execute_result"
    }
   ],
   "source": [
    "amd_share_price_data = amd.history(period=\"max\")\n",
    "amd_share_price_data.head(1)"
   ]
  },
  {
   "cell_type": "markdown",
   "id": "56260152-9eab-427b-ac82-759b99afdd80",
   "metadata": {},
   "source": [
    "<h2>About the Authors:</h2> \n",
    "\n",
    "<a href=\"https://www.linkedin.com/in/joseph-s-50398b136/\">Joseph Santarcangelo</a> has a PhD in Electrical Engineering, his research focused on using machine learning, signal processing, and computer vision to determine how videos impact human cognition. Joseph has been working for IBM since he completed his PhD.\n",
    "\n",
    "Azim Hirjani\n"
   ]
  },
  {
   "cell_type": "markdown",
   "id": "fd2a13e3-4deb-4728-8867-533e44437cc9",
   "metadata": {},
   "source": [
    "<!-- ## Change Log\n",
    "\n",
    "| Date (YYYY-MM-DD) | Version | Changed By    | Change Description        |\n",
    "| ----------------- | ------- | ------------- | ------------------------- |\n",
    "| 2020-11-10        | 1.1     | Malika Singla | Deleted the Optional part |\n",
    "| 2020-08-27        | 1.0     | Malika Singla | Added lab to GitLab       |\n",
    "\n",
    "<hr>-->\n",
    "\n",
    "## <h3 align=\"center\"> © IBM Corporation 2020. All rights reserved. <h3/>\n",
    "\n",
    "<p>\n"
   ]
  }
 ],
 "metadata": {
  "kernelspec": {
   "display_name": "Python 3",
   "language": "python",
   "name": "python3"
  },
  "language_info": {
   "codemirror_mode": {
    "name": "ipython",
    "version": 3
   },
   "file_extension": ".py",
   "mimetype": "text/x-python",
   "name": "python",
   "nbconvert_exporter": "python",
   "pygments_lexer": "ipython3",
   "version": "3.13.2"
  },
  "prev_pub_hash": "62faa850bc8281ce7e26921454248cbaba89b3dee85cbce43a1a81bdf8191b44"
 },
 "nbformat": 4,
 "nbformat_minor": 4
}
